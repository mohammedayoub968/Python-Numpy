{
  "nbformat": 4,
  "nbformat_minor": 0,
  "metadata": {
    "colab": {
      "provenance": [],
      "authorship_tag": "ABX9TyPHOIm0CfwWd8RvBr1B9O+E",
      "include_colab_link": true
    },
    "kernelspec": {
      "name": "python3",
      "display_name": "Python 3"
    },
    "language_info": {
      "name": "python"
    }
  },
  "cells": [
    {
      "cell_type": "markdown",
      "metadata": {
        "id": "view-in-github",
        "colab_type": "text"
      },
      "source": [
        "<a href=\"https://colab.research.google.com/github/mohammedayoub968/Python-Numpy/blob/main/Numpy_Practice.ipynb\" target=\"_parent\"><img src=\"https://colab.research.google.com/assets/colab-badge.svg\" alt=\"Open In Colab\"/></a>"
      ]
    },
    {
      "cell_type": "markdown",
      "source": [
        "#NumPy Basic Exercises\n"
      ],
      "metadata": {
        "id": "mEw6jp64zciK"
      }
    },
    {
      "cell_type": "code",
      "execution_count": 1,
      "metadata": {
        "id": "-nRFKdM9fe-B"
      },
      "outputs": [],
      "source": [
        "import numpy as np"
      ]
    },
    {
      "cell_type": "markdown",
      "source": [
        "1. Get NumPy Version & Build Info\n",
        "\n",
        "Write a Numpy program to get the Numpy version and show the Numpy build configuration."
      ],
      "metadata": {
        "id": "dIqNrne9flbU"
      }
    },
    {
      "cell_type": "code",
      "source": [
        "numpy_version = np.version.version\n",
        "numpy_configuration = np.show_config()\n",
        "print(\"Numpy version : \" , numpy_version)\n",
        "print(\"Numpy configuration : \" , numpy_configuration)"
      ],
      "metadata": {
        "colab": {
          "base_uri": "https://localhost:8080/"
        },
        "collapsed": true,
        "id": "Ouq0yVzjz2oW",
        "outputId": "309dbc21-3677-4638-8706-b839fa1075fa"
      },
      "execution_count": null,
      "outputs": [
        {
          "output_type": "stream",
          "name": "stdout",
          "text": [
            "Build Dependencies:\n",
            "  blas:\n",
            "    detection method: pkgconfig\n",
            "    found: true\n",
            "    include directory: /opt/_internal/cpython-3.11.8/lib/python3.11/site-packages/scipy_openblas64/include\n",
            "    lib directory: /opt/_internal/cpython-3.11.8/lib/python3.11/site-packages/scipy_openblas64/lib\n",
            "    name: scipy-openblas\n",
            "    openblas configuration: OpenBLAS 0.3.27  USE64BITINT DYNAMIC_ARCH NO_AFFINITY\n",
            "      Zen MAX_THREADS=64\n",
            "    pc file directory: /project/.openblas\n",
            "    version: 0.3.27\n",
            "  lapack:\n",
            "    detection method: pkgconfig\n",
            "    found: true\n",
            "    include directory: /opt/_internal/cpython-3.11.8/lib/python3.11/site-packages/scipy_openblas64/include\n",
            "    lib directory: /opt/_internal/cpython-3.11.8/lib/python3.11/site-packages/scipy_openblas64/lib\n",
            "    name: scipy-openblas\n",
            "    openblas configuration: OpenBLAS 0.3.27  USE64BITINT DYNAMIC_ARCH NO_AFFINITY\n",
            "      Zen MAX_THREADS=64\n",
            "    pc file directory: /project/.openblas\n",
            "    version: 0.3.27\n",
            "Compilers:\n",
            "  c:\n",
            "    commands: cc\n",
            "    linker: ld.bfd\n",
            "    name: gcc\n",
            "    version: 10.2.1\n",
            "  c++:\n",
            "    commands: c++\n",
            "    linker: ld.bfd\n",
            "    name: gcc\n",
            "    version: 10.2.1\n",
            "  cython:\n",
            "    commands: cython\n",
            "    linker: cython\n",
            "    name: cython\n",
            "    version: 3.0.11\n",
            "Machine Information:\n",
            "  build:\n",
            "    cpu: x86_64\n",
            "    endian: little\n",
            "    family: x86_64\n",
            "    system: linux\n",
            "  host:\n",
            "    cpu: x86_64\n",
            "    endian: little\n",
            "    family: x86_64\n",
            "    system: linux\n",
            "Python Information:\n",
            "  path: /tmp/build-env-zm_4loqi/bin/python\n",
            "  version: '3.11'\n",
            "SIMD Extensions:\n",
            "  baseline:\n",
            "  - SSE\n",
            "  - SSE2\n",
            "  - SSE3\n",
            "  found:\n",
            "  - SSSE3\n",
            "  - SSE41\n",
            "  - POPCNT\n",
            "  - SSE42\n",
            "  - AVX\n",
            "  - F16C\n",
            "  - FMA3\n",
            "  - AVX2\n",
            "  not found:\n",
            "  - AVX512F\n",
            "  - AVX512CD\n",
            "  - AVX512_KNL\n",
            "  - AVX512_KNM\n",
            "  - AVX512_SKX\n",
            "  - AVX512_CLX\n",
            "  - AVX512_CNL\n",
            "  - AVX512_ICL\n",
            "\n",
            "Numpy version :  2.0.2\n",
            "Numpy configuration :  None\n"
          ]
        }
      ]
    },
    {
      "cell_type": "markdown",
      "source": [
        "2. Help for NumPy Add Function\n",
        "\n",
        "Write a NumPy program to get help with the add function"
      ],
      "metadata": {
        "id": "PDLdZfSX1r_Z"
      }
    },
    {
      "cell_type": "code",
      "source": [
        "#using function info() to get informations about build-in function in python\n",
        "print(np.info(np.add))"
      ],
      "metadata": {
        "colab": {
          "base_uri": "https://localhost:8080/"
        },
        "collapsed": true,
        "id": "6aC5jSqV1SLU",
        "outputId": "271d5ef9-0c13-486f-a4a0-62c1781f3ff0"
      },
      "execution_count": null,
      "outputs": [
        {
          "output_type": "stream",
          "name": "stdout",
          "text": [
            "add(x1, x2, /, out=None, *, where=True, casting='same_kind', order='K', dtype=None, subok=True[, signature])\n",
            "\n",
            "Add arguments element-wise.\n",
            "\n",
            "Parameters\n",
            "----------\n",
            "x1, x2 : array_like\n",
            "    The arrays to be added.\n",
            "    If ``x1.shape != x2.shape``, they must be broadcastable to a common\n",
            "    shape (which becomes the shape of the output).\n",
            "out : ndarray, None, or tuple of ndarray and None, optional\n",
            "    A location into which the result is stored. If provided, it must have\n",
            "    a shape that the inputs broadcast to. If not provided or None,\n",
            "    a freshly-allocated array is returned. A tuple (possible only as a\n",
            "    keyword argument) must have length equal to the number of outputs.\n",
            "where : array_like, optional\n",
            "    This condition is broadcast over the input. At locations where the\n",
            "    condition is True, the `out` array will be set to the ufunc result.\n",
            "    Elsewhere, the `out` array will retain its original value.\n",
            "    Note that if an uninitialized `out` array is created via the default\n",
            "    ``out=None``, locations within it where the condition is False will\n",
            "    remain uninitialized.\n",
            "**kwargs\n",
            "    For other keyword-only arguments, see the\n",
            "    :ref:`ufunc docs <ufuncs.kwargs>`.\n",
            "\n",
            "Returns\n",
            "-------\n",
            "add : ndarray or scalar\n",
            "    The sum of `x1` and `x2`, element-wise.\n",
            "    This is a scalar if both `x1` and `x2` are scalars.\n",
            "\n",
            "Notes\n",
            "-----\n",
            "Equivalent to `x1` + `x2` in terms of array broadcasting.\n",
            "\n",
            "Examples\n",
            "--------\n",
            ">>> np.add(1.0, 4.0)\n",
            "5.0\n",
            ">>> x1 = np.arange(9.0).reshape((3, 3))\n",
            ">>> x2 = np.arange(3.0)\n",
            ">>> np.add(x1, x2)\n",
            "array([[  0.,   2.,   4.],\n",
            "       [  3.,   5.,   7.],\n",
            "       [  6.,   8.,  10.]])\n",
            "\n",
            "The ``+`` operator can be used as a shorthand for ``np.add`` on ndarrays.\n",
            "\n",
            ">>> x1 = np.arange(9.0).reshape((3, 3))\n",
            ">>> x2 = np.arange(3.0)\n",
            ">>> x1 + x2\n",
            "array([[ 0.,  2.,  4.],\n",
            "       [ 3.,  5.,  7.],\n",
            "       [ 6.,  8., 10.]])\n",
            "None\n"
          ]
        }
      ]
    },
    {
      "cell_type": "markdown",
      "source": [
        "3. Test Any Non-Zero\n",
        "\n",
        "Write a NumPy program to test if any of the elements of a given array are non-zero."
      ],
      "metadata": {
        "id": "7SbTNnWC3jSA"
      }
    },
    {
      "cell_type": "code",
      "source": [
        "array = np.array([[1 ,5 ,4 ,3 ,0] , [2 ,0 ,5 ,0 ,7]])\n",
        "check_nonzeros = np.nonzero(array)\n",
        "print(check_nonzeros) #return two arrays the dirst is row indixes and the second is the column indexes"
      ],
      "metadata": {
        "colab": {
          "base_uri": "https://localhost:8080/"
        },
        "id": "Nd606R5M2pLK",
        "outputId": "11197001-9277-4fc0-c22e-df0d004bb1ea"
      },
      "execution_count": null,
      "outputs": [
        {
          "output_type": "stream",
          "name": "stdout",
          "text": [
            "(array([0, 0, 0, 0, 1, 1, 1]), array([0, 1, 2, 3, 0, 2, 4]))\n"
          ]
        }
      ]
    },
    {
      "cell_type": "markdown",
      "source": [
        "4. Test None are Zero\n",
        "\n",
        "Write a NumPy program to test whether none of the elements of a given array are zero."
      ],
      "metadata": {
        "id": "xzkC3Gip7CmR"
      }
    },
    {
      "cell_type": "code",
      "source": [
        "arr = np.array([[1 ,5 ,4 ,3 ,] , [2 ,10 ,5 ,-7]])\n",
        "print(\"Original array : \" , array)\n",
        "print(\"check zeros : \" , np.all(array))\n",
        "print(\"----------------------------------------------\")\n",
        "print(\"Original array : \" , arr)\n",
        "print(\"check zeros : \" , np.all(arr))"
      ],
      "metadata": {
        "colab": {
          "base_uri": "https://localhost:8080/"
        },
        "id": "0Mur7bmo4Q27",
        "outputId": "3117df0c-046d-4b52-f5eb-fa5beaecb2f6"
      },
      "execution_count": null,
      "outputs": [
        {
          "output_type": "stream",
          "name": "stdout",
          "text": [
            "Original array :  [[1 5 4 3 0]\n",
            " [2 0 5 0 7]]\n",
            "check zeros :  False\n",
            "----------------------------------------------\n",
            "Original array :  [[ 1  5  4  3]\n",
            " [ 2 10  5 -7]]\n",
            "check zeros :  True\n"
          ]
        }
      ]
    },
    {
      "cell_type": "markdown",
      "source": [
        "5. Test infinity of Elements\n",
        "\n",
        "Write a NumPy program to test a given array element-wise for infinity or not"
      ],
      "metadata": {
        "id": "czCPEKtE8d8H"
      }
    },
    {
      "cell_type": "code",
      "source": [
        "print(\"Original array : \" , array)\n",
        "print(\"the logic T\\F array\" , np.isinf(array))\n",
        "print(\"check the array have infinit value or not : \" , np.any(np.isinf(array)))\n",
        "print(\"---------------------------------------------\")\n",
        "a = np.array([1 , float(\"inf\") , 5 ,7 ,-4])\n",
        "print(\"Original array : \" , a)\n",
        "print(\"the logic T\\F array\" , np.isinf(a))\n",
        "print(\"check the array have infinit value or not : \" , np.any(np.isinf(a)))"
      ],
      "metadata": {
        "colab": {
          "base_uri": "https://localhost:8080/"
        },
        "id": "buxani464_lX",
        "outputId": "f7ba9ac4-716c-4490-bcd1-68b612b1c51a"
      },
      "execution_count": null,
      "outputs": [
        {
          "output_type": "stream",
          "name": "stdout",
          "text": [
            "Original array :  [[1 5 4 3 0]\n",
            " [2 0 5 0 7]]\n",
            "the logic T\\F array [[False False False False False]\n",
            " [False False False False False]]\n",
            "check the array have infinit value or not :  False\n",
            "---------------------------------------------\n",
            "Original array :  [ 1. inf  5.  7. -4.]\n",
            "the logic T\\F array [False  True False False False]\n",
            "check the array have infinit value or not :  True\n"
          ]
        }
      ]
    },
    {
      "cell_type": "markdown",
      "source": [
        "6. Test Finiteness of Elements\n",
        "\n",
        "Write a NumPy program to test a given array element-wise for finiteness (not infinity or not a number)."
      ],
      "metadata": {
        "id": "Ul16pwJgCJ9S"
      }
    },
    {
      "cell_type": "code",
      "source": [
        "print(\"Original array : \" , array)\n",
        "print(\"the logic T\\F array\" , np.isfinite(array))\n",
        "print(\"check the array have finite value or not : \" , np.all(np.isfinite(array)))\n",
        "print(\"---------------------------------------------\")\n",
        "a = np.array([1 , float(\"-inf\") , 5 ,7 ,-4])\n",
        "print(\"Original array : \" , a)\n",
        "print(\"the logic T\\F array\" , np.isfinite(a))\n",
        "print(\"check the array have finite value or not : \" , np.all(np.isfinite(a)))\n",
        "print(\"---------------------------------------------\")\n",
        "b = np.array([1 , np.nan , 5 ,7 ,-4])\n",
        "print(\"Original array : \" , b)\n",
        "print(\"the logic T\\F array\" , np.isfinite(b))\n",
        "print(\"check the array have finite value or not : \" , np.all(np.isfinite(b)))"
      ],
      "metadata": {
        "colab": {
          "base_uri": "https://localhost:8080/"
        },
        "id": "eiQIiHN0_q72",
        "outputId": "46d0cd11-f2f5-40ff-b6f5-44dba1200356"
      },
      "execution_count": null,
      "outputs": [
        {
          "output_type": "stream",
          "name": "stdout",
          "text": [
            "Original array :  [[1 5 4 3 0]\n",
            " [2 0 5 0 7]]\n",
            "the logic T\\F array [[ True  True  True  True  True]\n",
            " [ True  True  True  True  True]]\n",
            "check the array have finite value or not :  True\n",
            "---------------------------------------------\n",
            "Original array :  [  1. -inf   5.   7.  -4.]\n",
            "the logic T\\F array [ True False  True  True  True]\n",
            "check the array have finite value or not :  False\n",
            "---------------------------------------------\n",
            "Original array :  [ 1. nan  5.  7. -4.]\n",
            "the logic T\\F array [ True False  True  True  True]\n",
            "check the array have finite value or not :  False\n"
          ]
        }
      ]
    },
    {
      "cell_type": "code",
      "source": [
        "p_s = np.array([1, -2, np.inf, -np.inf, 0, 3.5])\n",
        "res_of_posinf = np.isposinf(p_s)\n",
        "res_of_neginf = np.isneginf(p_s)\n",
        "print(\"Element-wise positive infinity check:\", res_of_posinf)\n",
        "print(\"Element-wise negative infinity check:\", res_of_neginf)"
      ],
      "metadata": {
        "colab": {
          "base_uri": "https://localhost:8080/"
        },
        "id": "xL_Rcm7RCXxa",
        "outputId": "28cd7a0d-e813-466a-f289-98327dbf633b"
      },
      "execution_count": null,
      "outputs": [
        {
          "output_type": "stream",
          "name": "stdout",
          "text": [
            "Element-wise positive infinity check: [False False  True False False False]\n",
            "Element-wise negative infinity check: [False False False  True False False]\n"
          ]
        }
      ]
    },
    {
      "cell_type": "markdown",
      "source": [
        "7. Test for NaN\n",
        "\n",
        "Write a NumPy program to test element-wise for NaN of a given array."
      ],
      "metadata": {
        "id": "AppfiESJHpPr"
      }
    },
    {
      "cell_type": "code",
      "source": [
        "print(\"Original array : \" , array)\n",
        "print(\"the logic T\\F array\" , np.isnan(array))\n",
        "print(\"check the array have NaN value or not : \" , np.any(np.isnan(array)))\n",
        "print(\"---------------------------------------------\")\n",
        "a = np.array([1 , np.nan , 5 ,7 ,-4])\n",
        "print(\"Original array : \" , a)\n",
        "print(\"the logic T\\F array\" , np.isnan(a))\n",
        "print(\"check the array have NaN value or not : \" , np.any(np.isnan(a)))\n",
        "print(\"---------------------------------------------\")\n"
      ],
      "metadata": {
        "colab": {
          "base_uri": "https://localhost:8080/"
        },
        "id": "HPyjK426GPqn",
        "outputId": "43a8fc7b-800f-4b54-f009-b15186ab48f4"
      },
      "execution_count": null,
      "outputs": [
        {
          "output_type": "stream",
          "name": "stdout",
          "text": [
            "Original array :  [[1 5 4 3 0]\n",
            " [2 0 5 0 7]]\n",
            "the logic T\\F array [[False False False False False]\n",
            " [False False False False False]]\n",
            "check the array have NaN value or not :  False\n",
            "---------------------------------------------\n",
            "Original array :  [ 1. nan  5.  7. -4.]\n",
            "the logic T\\F array [False  True False False False]\n",
            "check the array have NaN value or not :  True\n",
            "---------------------------------------------\n"
          ]
        }
      ]
    },
    {
      "cell_type": "markdown",
      "source": [
        "8. Test for Complex/Real/Scalar\n",
        "\n",
        "Write a NumPy program to test element-wise for complex numbers, real numbers in a given array. Also test if a given number is of a scalar type or not."
      ],
      "metadata": {
        "id": "letc-FfCKRzA"
      }
    },
    {
      "cell_type": "code",
      "source": [
        "print(\"Original array : \" , array)\n",
        "print(\"the logic T\\F array\" , np.iscomplex(array))\n",
        "print(\"check the array have complex value or not : \" , np.any(np.iscomplex(array)))\n",
        "print(\"---------------------------------------------\")\n",
        "a = np.array([1 , 1+1j , 5 ,7 ,-4])\n",
        "print(\"Original array : \" , a)\n",
        "print(\"the logic T\\F array\" , np.iscomplex(a))\n",
        "print(\"check the array have complex value or not : \" , np.any(np.iscomplex(a)))\n",
        "print(\"---------------------------------------------\")\n"
      ],
      "metadata": {
        "colab": {
          "base_uri": "https://localhost:8080/"
        },
        "id": "TaLB2DMNHbTA",
        "outputId": "4049c1c7-ea77-44cc-ae9b-51b67d1440f7"
      },
      "execution_count": null,
      "outputs": [
        {
          "output_type": "stream",
          "name": "stdout",
          "text": [
            "Original array :  [[1 5 4 3 0]\n",
            " [2 0 5 0 7]]\n",
            "the logic T\\F array [[False False False False False]\n",
            " [False False False False False]]\n",
            "check the array have complex value or not :  False\n",
            "---------------------------------------------\n",
            "Original array :  [ 1.+0.j  1.+1.j  5.+0.j  7.+0.j -4.+0.j]\n",
            "the logic T\\F array [False  True False False False]\n",
            "check the array have complex value or not :  True\n",
            "---------------------------------------------\n"
          ]
        }
      ]
    },
    {
      "cell_type": "code",
      "source": [
        "print(\"Original array : \" , array)\n",
        "print(\"the logic T\\F array\" , np.isreal(array))\n",
        "print(\"check the array have real value or not : \" , np.any(np.isreal(array)))\n",
        "print(\"---------------------------------------------\")\n",
        "a = np.array([1 , 4.3 , 5 ,7 ,-4])\n",
        "print(\"Original array : \" , a)\n",
        "print(\"the logic T\\F array\" , np.isreal(a))\n",
        "print(\"check the array have real value or not : \" , np.any(np.isreal(a)))\n",
        "print(\"---------------------------------------------\")\n"
      ],
      "metadata": {
        "colab": {
          "base_uri": "https://localhost:8080/"
        },
        "id": "GnpqjtMtIcZD",
        "outputId": "526961a8-8559-40e3-8ea9-e27362287f31"
      },
      "execution_count": null,
      "outputs": [
        {
          "output_type": "stream",
          "name": "stdout",
          "text": [
            "Original array :  [[1 5 4 3 0]\n",
            " [2 0 5 0 7]]\n",
            "the logic T\\F array [[ True  True  True  True  True]\n",
            " [ True  True  True  True  True]]\n",
            "check the array have real value or not :  True\n",
            "---------------------------------------------\n",
            "Original array :  [ 1.   4.3  5.   7.  -4. ]\n",
            "the logic T\\F array [ True  True  True  True  True]\n",
            "check the array have real value or not :  True\n",
            "---------------------------------------------\n"
          ]
        }
      ]
    },
    {
      "cell_type": "code",
      "source": [
        "print(\"Original array : \" , array)\n",
        "print(\"the logic T\\F array\" , np.isscalar(array))\n",
        "print(\"check the array have scalar value or not : \" , np.any(np.isscalar(array)))\n",
        "print(\"---------------------------------------------\")\n",
        "a = 3.4\n",
        "print(\"Original array : \" , a)\n",
        "print(\"the logic T\\F array :\" , np.isscalar(a))\n",
        "print(\"check the array have scalar value or not : \" , np.any(np.isscalar(a)))\n",
        "print(\"---------------------------------------------\")\n"
      ],
      "metadata": {
        "colab": {
          "base_uri": "https://localhost:8080/"
        },
        "id": "JUc4NXuIJqEx",
        "outputId": "20a87e31-fb73-421b-a0e9-2ddf633853be"
      },
      "execution_count": null,
      "outputs": [
        {
          "output_type": "stream",
          "name": "stdout",
          "text": [
            "Original array :  [[1 5 4 3 0]\n",
            " [2 0 5 0 7]]\n",
            "the logic T\\F array False\n",
            "check the array have scalar value or not :  False\n",
            "---------------------------------------------\n",
            "Original array :  3.4\n",
            "the logic T\\F array : True\n",
            "check the array have scalar value or not :  True\n",
            "---------------------------------------------\n"
          ]
        }
      ]
    },
    {
      "cell_type": "markdown",
      "source": [
        "9. Test Element-Wise Tolerance Equality\n",
        "\n",
        "Write a NumPy program to test whether two arrays are element-wise equal within a tolerance."
      ],
      "metadata": {
        "id": "2agH2PDIKWis"
      }
    },
    {
      "cell_type": "code",
      "source": [
        "print(\"Test if two arrays are element-wise equal within a tolerance:\")\n",
        "\n",
        "print(np.allclose([1e10,1e-7], [1.00001e10,1e-8]))\n",
        "print(np.allclose([1e10,1e-8], [1.00001e10,1e-9]))\n",
        "print(np.allclose([1e10,1e-8], [1.0001e10,1e-9]))\n",
        "\n",
        "print(np.allclose([1.0, np.nan], [1.0, np.nan]))\n",
        "print(np.allclose([1.0, np.nan], [1.0, np.nan], equal_nan=True))\n"
      ],
      "metadata": {
        "colab": {
          "base_uri": "https://localhost:8080/"
        },
        "id": "PyBZF2wbKE9j",
        "outputId": "1c1f4c5b-729f-4edb-99a5-c3322f5faa4a"
      },
      "execution_count": null,
      "outputs": [
        {
          "output_type": "stream",
          "name": "stdout",
          "text": [
            "Test if two arrays are element-wise equal within a tolerance:\n",
            "False\n",
            "True\n",
            "False\n",
            "False\n",
            "True\n"
          ]
        }
      ]
    },
    {
      "cell_type": "markdown",
      "source": [
        "10. Element-Wise Comparison (Greater/Less)\n",
        "\n",
        "Write a NumPy program to create an element-wise comparison (greater, greater_equal, less and less_equal) of two given arrays."
      ],
      "metadata": {
        "id": "d65r_IUrQLaE"
      }
    },
    {
      "cell_type": "code",
      "source": [
        "x = np.array([3, 5])\n",
        "y = np.array([2, 5])\n",
        "\n",
        "print(\"Original Numbers : \")\n",
        "print(x)\n",
        "print(y)\n",
        "print(\"Comparison - greater : \" , np.greater(x,y))\n",
        "print(\"Comparison - greater_equal : \" , np.greater_equal(x,y))\n",
        "print(\"Comparison - less : \" , np.less(x,y))\n",
        "print(\"Comparison - less_equal : \" , np.less_equal(x,y))\n"
      ],
      "metadata": {
        "colab": {
          "base_uri": "https://localhost:8080/"
        },
        "id": "GyBZNGiPO_Q0",
        "outputId": "a49c93de-0255-4234-b407-786413425509"
      },
      "execution_count": null,
      "outputs": [
        {
          "output_type": "stream",
          "name": "stdout",
          "text": [
            "Original Numbers : \n",
            "[3 5]\n",
            "[2 5]\n",
            "Comparison - greater :  [ True False]\n",
            "Comparison - greater_equal :  [ True  True]\n",
            "Comparison - less :  [False False]\n",
            "Comparison - less_equal :  [False  True]\n"
          ]
        }
      ]
    },
    {
      "cell_type": "markdown",
      "source": [
        "# NumPy Array Exercises"
      ],
      "metadata": {
        "id": "5tYzJoEyQT-2"
      }
    },
    {
      "cell_type": "markdown",
      "source": [
        "1. Convert List to 1D Array\n",
        "\n",
        "Write a NumPy program to convert a list of numeric values into a one-dimensional NumPy array.\n",
        "\n",
        "Expected Output:\n",
        "\n",
        "Original List: [12.23, 13.32, 100, 36.32]\n",
        "One-dimensional NumPy array: [ 12.23 13.32 100. 36.32]"
      ],
      "metadata": {
        "id": "8rd24BPWOwik"
      }
    },
    {
      "cell_type": "code",
      "source": [
        "my_list = [12.23, 13.32, 100, 36.32]\n",
        "array = np.array(my_list)\n",
        "print(array)\n",
        "print(type(array))"
      ],
      "metadata": {
        "id": "zxemSr4ZPL39",
        "colab": {
          "base_uri": "https://localhost:8080/"
        },
        "outputId": "271245fe-1643-4ff8-fdcd-e30af20888c9"
      },
      "execution_count": null,
      "outputs": [
        {
          "output_type": "stream",
          "name": "stdout",
          "text": [
            "[ 12.23  13.32 100.    36.32]\n",
            "<class 'numpy.ndarray'>\n"
          ]
        }
      ]
    },
    {
      "cell_type": "markdown",
      "source": [
        "2. Create 3x3 Matrix (2?10)\n",
        "\n",
        "Write a NumPy program to create a 3x3 matrix with values ranging from 2 to 10.\n",
        "\n",
        "Expected Output:\n",
        "\n",
        "[[ 2 3 4]\n",
        "[ 5 6 7]\n",
        "[ 8 9 10]]"
      ],
      "metadata": {
        "id": "eAompxyEPfRu"
      }
    },
    {
      "cell_type": "code",
      "source": [
        "a = np.arange(2,11).reshape(3,3)\n",
        "print(a)"
      ],
      "metadata": {
        "colab": {
          "base_uri": "https://localhost:8080/"
        },
        "id": "EVDjJx2gZGl7",
        "outputId": "ee4ccdcc-5623-4312-c1e8-28bca2c3c1a7"
      },
      "execution_count": null,
      "outputs": [
        {
          "output_type": "stream",
          "name": "stdout",
          "text": [
            "[[ 2  3  4]\n",
            " [ 5  6  7]\n",
            " [ 8  9 10]]\n"
          ]
        }
      ]
    },
    {
      "cell_type": "code",
      "source": [
        "my_list = [[2 , 3 , 4], [ 5, 6, 7] ,[ 8 ,9 ,10]]\n",
        "array = np.array(my_list)\n",
        "print(array)\n",
        "print(array.shape)"
      ],
      "metadata": {
        "colab": {
          "base_uri": "https://localhost:8080/"
        },
        "id": "nqBMt_mIPDw8",
        "outputId": "8a68d130-84fe-44fc-d904-57c223000eaf"
      },
      "execution_count": null,
      "outputs": [
        {
          "output_type": "stream",
          "name": "stdout",
          "text": [
            "[[ 2  3  4]\n",
            " [ 5  6  7]\n",
            " [ 8  9 10]]\n",
            "(3, 3)\n"
          ]
        }
      ]
    },
    {
      "cell_type": "markdown",
      "source": [
        "3. Null Vector (10) & Update Sixth Value\n",
        "\n",
        "Write a NumPy program to create a null vector of size 10 and update the sixth value to 11.\n",
        "\n",
        "[ 0. 0. 0. 0. 0. 0. 0. 0. 0. 0.]\n",
        "\n",
        "Update sixth value to 11\n",
        "[ 0. 0. 0. 0. 0. 0. 11. 0. 0. 0.]"
      ],
      "metadata": {
        "id": "NESp_-DIbKZT"
      }
    },
    {
      "cell_type": "code",
      "source": [
        "array = np.zeros(10)\n",
        "print(\"The original array : \",array)\n",
        "array[6] = 11\n",
        "print(\"Update the sixth value in the array :to 11 \" , array)"
      ],
      "metadata": {
        "colab": {
          "base_uri": "https://localhost:8080/"
        },
        "id": "3E4UW9c7YquZ",
        "outputId": "ed8fbc47-15a7-4db1-c667-35d995245f51"
      },
      "execution_count": null,
      "outputs": [
        {
          "output_type": "stream",
          "name": "stdout",
          "text": [
            "The original array :  [0. 0. 0. 0. 0. 0. 0. 0. 0. 0.]\n",
            "Update the sixth value in the array :to 11  [ 0.  0.  0.  0.  0.  0. 11.  0.  0.  0.]\n"
          ]
        }
      ]
    },
    {
      "cell_type": "markdown",
      "source": [
        "5. Array from 12 to 38\n",
        "\n",
        "Write a NumPy program to create an array with values ranging from 12 to 38.\n",
        "\n",
        "Expected Output:\n",
        "\n",
        "[12 13 14 15 16 17 18 19 20 21 22 23 24 25 26 27 28 29 30 31 32 33 34 35 36 37]\n",
        "\n"
      ],
      "metadata": {
        "id": "fTfeMU2adAm2"
      }
    },
    {
      "cell_type": "code",
      "source": [
        "array = np.arange(12,38)\n",
        "print(array)"
      ],
      "metadata": {
        "colab": {
          "base_uri": "https://localhost:8080/"
        },
        "id": "zcgU4Bh_binv",
        "outputId": "a5caa979-4ede-4b58-b568-efdf75670e83"
      },
      "execution_count": null,
      "outputs": [
        {
          "output_type": "stream",
          "name": "stdout",
          "text": [
            "[12 13 14 15 16 17 18 19 20 21 22 23 24 25 26 27 28 29 30 31 32 33 34 35\n",
            " 36 37]\n"
          ]
        }
      ]
    },
    {
      "cell_type": "markdown",
      "source": [
        "6. Reverse Array\n",
        "\n",
        "Write a NumPy program to reverse an array (the first element becomes the last).\n",
        "\n",
        "Original array:\n",
        "[12 13 14 15 16 17 18 19 20 21 22 23 24 25 26 27 28 29 30 31 32 33 34 35 36 37]\n",
        "\n",
        "Reverse array:\n",
        "[37 36 35 34 33 32 31 30 29 28 27 26 25 24 23 22 21 20 19 18 17 16 15 14 13 12]"
      ],
      "metadata": {
        "id": "ayAE9IUSfD2b"
      }
    },
    {
      "cell_type": "code",
      "source": [
        "original = np.arange(12,38)\n",
        "print(\"The original array : \\n\" , original)\n",
        "reverse = original[::-1]\n",
        "print(\"The reversed array : \\n\" , reverse)"
      ],
      "metadata": {
        "colab": {
          "base_uri": "https://localhost:8080/"
        },
        "id": "OnZr7d_ye1rt",
        "outputId": "02aba1f7-9c46-432b-92ba-d391e28f7d6f"
      },
      "execution_count": null,
      "outputs": [
        {
          "output_type": "stream",
          "name": "stdout",
          "text": [
            "The original array : \n",
            " [12 13 14 15 16 17 18 19 20 21 22 23 24 25 26 27 28 29 30 31 32 33 34 35\n",
            " 36 37]\n",
            "The reversed array : \n",
            " [37 36 35 34 33 32 31 30 29 28 27 26 25 24 23 22 21 20 19 18 17 16 15 14\n",
            " 13 12]\n"
          ]
        }
      ]
    },
    {
      "cell_type": "markdown",
      "source": [
        "7. Convert Array to Float Type\n",
        "\n",
        "Write a NumPy program to convert an array to a floating type.\n",
        "\n",
        "Sample output:\n",
        "\n",
        "Original array\n",
        "[1, 2, 3, 4]\n",
        "\n",
        "Array converted to a float type:\n",
        "[ 1. 2. 3. 4.]"
      ],
      "metadata": {
        "id": "fi4ue_Ragq0S"
      }
    },
    {
      "cell_type": "code",
      "source": [
        "array = np.array([[1 , 5 ,7] , [4 , 7 ,9]])\n",
        "print(\"The original array data type : \" , array.dtype)\n",
        "array = array.astype(\"float32\")\n",
        "print(\"The converted array data type : \" , array.dtype)"
      ],
      "metadata": {
        "id": "AY-bD9YzgPjn",
        "colab": {
          "base_uri": "https://localhost:8080/"
        },
        "outputId": "9fef07bb-87db-40f9-df01-7d0f744790d5"
      },
      "execution_count": null,
      "outputs": [
        {
          "output_type": "stream",
          "name": "stdout",
          "text": [
            "The original array data type :  int64\n",
            "The converted array data type :  float32\n"
          ]
        }
      ]
    },
    {
      "cell_type": "markdown",
      "source": [
        "8. 2D Array (Border 1, Inside 0)\n",
        "\n",
        "Write a NumPy program to create a 2D array with 1 on the border and 0 inside.\n",
        "\n",
        "Expected Output:\n",
        "\n",
        "Original array:\n",
        "[[ 1. 1. 1. 1. 1.]\n",
        "...................\n",
        "[ 1. 1. 1. 1. 1.]]\n",
        "\n",
        "1 on the border and 0 inside in the array\n",
        "[[ 1. 1. 1. 1. 1.]\n",
        "...................\n",
        "[ 1. 1. 1. 1. 1.]]"
      ],
      "metadata": {
        "id": "Odqv5MbxAS7A"
      }
    },
    {
      "cell_type": "code",
      "source": [
        "original = np.ones((5,5))\n",
        "print(\"Original Array : \\n\",original)\n",
        "print(\"-----------------------------------\")\n",
        "original[1:-1 , 1:-1] = 0\n",
        "print(\"Border Array : \\n\",original)\n"
      ],
      "metadata": {
        "colab": {
          "base_uri": "https://localhost:8080/"
        },
        "id": "oxL5qemj2OYO",
        "outputId": "43b5eb56-f1cf-45a7-a90b-cef9be2e56c6"
      },
      "execution_count": null,
      "outputs": [
        {
          "output_type": "stream",
          "name": "stdout",
          "text": [
            "Original Array : \n",
            " [[1. 1. 1. 1. 1.]\n",
            " [1. 1. 1. 1. 1.]\n",
            " [1. 1. 1. 1. 1.]\n",
            " [1. 1. 1. 1. 1.]\n",
            " [1. 1. 1. 1. 1.]]\n",
            "-----------------------------------\n",
            "Border Array : \n",
            " [[1. 1. 1. 1. 1.]\n",
            " [1. 0. 0. 0. 1.]\n",
            " [1. 0. 0. 0. 1.]\n",
            " [1. 0. 0. 0. 1.]\n",
            " [1. 1. 1. 1. 1.]]\n"
          ]
        }
      ]
    },
    {
      "cell_type": "markdown",
      "source": [
        "9. Add Border to Array (0s)\n",
        "\n",
        "Write a NumPy program to add a border (filled with 0's) around an existing array.\n",
        "\n",
        "Expected Output:\n",
        "\n",
        "Original array:\n",
        "[[ 1. 1. 1.]\n",
        "[ 1. 1. 1.]\n",
        "[ 1. 1. 1.]]\n",
        "\n",
        "1 on the border and 0 inside in the array\n",
        "[[ 0. 0. 0. 0. 0.]\n",
        "...........\n",
        "[ 0. 0. 0. 0. 0.]]"
      ],
      "metadata": {
        "id": "F8P5FAdACSuB"
      }
    },
    {
      "cell_type": "code",
      "source": [
        "original = np.zeros((5,5))\n",
        "print(\"Original Array : \\n\",original)\n",
        "print(\"-----------------------------------\")\n",
        "original[1:-1 , 1:-1] = 1\n",
        "print(\"Border Array : \\n\",original)\n"
      ],
      "metadata": {
        "colab": {
          "base_uri": "https://localhost:8080/"
        },
        "id": "fuvBi4SJAlHA",
        "outputId": "99a080df-6346-4e27-d41a-54a6176b097a"
      },
      "execution_count": null,
      "outputs": [
        {
          "output_type": "stream",
          "name": "stdout",
          "text": [
            "Original Array : \n",
            " [[0. 0. 0. 0. 0.]\n",
            " [0. 0. 0. 0. 0.]\n",
            " [0. 0. 0. 0. 0.]\n",
            " [0. 0. 0. 0. 0.]\n",
            " [0. 0. 0. 0. 0.]]\n",
            "-----------------------------------\n",
            "Border Array : \n",
            " [[0. 0. 0. 0. 0.]\n",
            " [0. 1. 1. 1. 0.]\n",
            " [0. 1. 1. 1. 0.]\n",
            " [0. 1. 1. 1. 0.]\n",
            " [0. 0. 0. 0. 0.]]\n"
          ]
        }
      ]
    },
    {
      "cell_type": "markdown",
      "source": [
        "10. 8x8 Checkerboard Pattern\n",
        "\n",
        "Write a NumPy program to create an 8x8 matrix and fill it with a checkerboard pattern.\n",
        "\n",
        "Checkerboard pattern:\n",
        "\n",
        "[[0 1 0 1 0 1 0 1]\n",
        "..........\n",
        "[0 1 0 1 0 1 0 1]\n",
        "[1 0 1 0 1 0 1 0]]\n"
      ],
      "metadata": {
        "id": "ASXdag4_C9m7"
      }
    },
    {
      "cell_type": "code",
      "source": [
        "original  = np.zeros((8,8) , dtype= \"int8\")\n",
        "print(\"Original Array : \\n\",original)\n",
        "\n",
        "original[1::2 , ::2] = 1\n",
        "original[::2 , 1::2] = 1\n",
        "\n",
        "print(\"Checkerboard Pattern Array : \\n\",original)\n"
      ],
      "metadata": {
        "colab": {
          "base_uri": "https://localhost:8080/"
        },
        "id": "l2P_I4qWCZc-",
        "outputId": "6fe137ba-57a4-4fa7-8bb7-a7e8b4bbaeb3"
      },
      "execution_count": null,
      "outputs": [
        {
          "output_type": "stream",
          "name": "stdout",
          "text": [
            "Original Array : \n",
            " [[0 0 0 0 0 0 0 0]\n",
            " [0 0 0 0 0 0 0 0]\n",
            " [0 0 0 0 0 0 0 0]\n",
            " [0 0 0 0 0 0 0 0]\n",
            " [0 0 0 0 0 0 0 0]\n",
            " [0 0 0 0 0 0 0 0]\n",
            " [0 0 0 0 0 0 0 0]\n",
            " [0 0 0 0 0 0 0 0]]\n",
            "Checkerboard Pattern Array : \n",
            " [[0 1 0 1 0 1 0 1]\n",
            " [1 0 1 0 1 0 1 0]\n",
            " [0 1 0 1 0 1 0 1]\n",
            " [1 0 1 0 1 0 1 0]\n",
            " [0 1 0 1 0 1 0 1]\n",
            " [1 0 1 0 1 0 1 0]\n",
            " [0 1 0 1 0 1 0 1]\n",
            " [1 0 1 0 1 0 1 0]]\n"
          ]
        }
      ]
    },
    {
      "cell_type": "markdown",
      "source": [
        "11. List/Tuple to Arrays\n",
        "\n",
        "Write a NumPy program to convert a list and tuple into arrays.\n",
        "\n",
        "List to array:\n",
        "[1 2 3 4 5 6 7 8]\n",
        "\n",
        "Tuple to array:\n",
        "[[8 4 6]\n",
        "[1 2 3]]"
      ],
      "metadata": {
        "id": "AoZzTV-NGAu7"
      }
    },
    {
      "cell_type": "code",
      "source": [
        "my_list = [1, 2, 3, 4, 5, 6, 7, 8]\n",
        "my_tuple = ([8 , 4 , 6] , [1 ,2 ,3])\n",
        "\n",
        "list_to_array = np.array(my_list)\n",
        "tuple_to_array  = np.array(my_tuple)\n",
        "\n",
        "print(\"The original list : \" , my_list)\n",
        "print(\"list to array : \" , list_to_array)\n",
        "print(\"-----------------------------------\")\n",
        "print(\"The original tuple : \" , my_tuple)\n",
        "print(\"tuple to array : \\n\" , tuple_to_array)\n"
      ],
      "metadata": {
        "colab": {
          "base_uri": "https://localhost:8080/"
        },
        "id": "ALImnJqmE1Yl",
        "outputId": "844e9947-3f9d-4abc-cc24-b0bd8e20bcde"
      },
      "execution_count": null,
      "outputs": [
        {
          "output_type": "stream",
          "name": "stdout",
          "text": [
            "The original list :  [1, 2, 3, 4, 5, 6, 7, 8]\n",
            "list to array :  [1 2 3 4 5 6 7 8]\n",
            "-----------------------------------\n",
            "The original tuple :  ([8, 4, 6], [1, 2, 3])\n",
            "tuple to array : \n",
            " [[8 4 6]\n",
            " [1 2 3]]\n"
          ]
        }
      ]
    },
    {
      "cell_type": "markdown",
      "source": [
        "12. Append Values to Array\n",
        "\n",
        "Write a NumPy program to append values to the end of an array.\n",
        "\n",
        "Expected Output:\n",
        "\n",
        "Original array:\n",
        "[10, 20, 30]\n",
        "\n",
        "After append values to the end of the array:\n",
        "[10 20 30 40 50 60 70 80 90]"
      ],
      "metadata": {
        "id": "cIVS4v_4IEHO"
      }
    },
    {
      "cell_type": "code",
      "source": [
        "array = np.array([10 , 20 , 30])\n",
        "print(\"original array : \\n\" , array)\n",
        "array2 = np.append(array , [40 ,50 ,60 ,70 ,80 ,90])\n",
        "print(\"append values 40 , 50 ,60 ,70 ,80 ,90 to the array : \\n\" , array2)"
      ],
      "metadata": {
        "colab": {
          "base_uri": "https://localhost:8080/"
        },
        "id": "q53yYkntHqOE",
        "outputId": "76a29d28-389e-4ae4-ea82-805e35225826"
      },
      "execution_count": null,
      "outputs": [
        {
          "output_type": "stream",
          "name": "stdout",
          "text": [
            "original array : \n",
            " [10 20 30]\n",
            "append values 40 , 50 ,60 ,70 ,80 ,90 to the array : \n",
            " [10 20 30 40 50 60 70 80 90]\n"
          ]
        }
      ]
    },
    {
      "cell_type": "markdown",
      "source": [
        "13. Create Empty and Full Array\n",
        "\n",
        "Write a NumPy program to create an empty and full array.\n",
        "\n",
        "Expected Output:\n",
        "\n",
        "[ 6.93270651e-310 1.59262180e-316 6.93270559e-310 6.93270665e-310]\n",
        "[ 6.93270667e-310 6.93270671e-310 6.93270668e-310 6.93270483e-310]\n",
        "[ 6.93270668e-310 6.93270671e-310 6.93270370e-310 6.93270488e-310]]\n",
        "[[6 6 6]\n",
        "[6 6 6]\n",
        "[6 6 6]]"
      ],
      "metadata": {
        "id": "anz-X25eJ3Is"
      }
    },
    {
      "cell_type": "code",
      "source": [
        "empty_array = np.empty((4,4) , dtype= \"int8\")\n",
        "full_array = np.full((4,4) , fill_value= 6)\n",
        "\n",
        "print(\"The empty array is : \\n\" , empty_array)\n",
        "print(\"--------------------------------------------\")\n",
        "print(\"The full array is : \\n\" , full_array)\n"
      ],
      "metadata": {
        "colab": {
          "base_uri": "https://localhost:8080/"
        },
        "id": "VfNLfat8JN_r",
        "outputId": "6382634c-30e2-4f26-c8bf-b1fe0508a7e8"
      },
      "execution_count": null,
      "outputs": [
        {
          "output_type": "stream",
          "name": "stdout",
          "text": [
            "The empty array is : \n",
            " [[1 1 1 1]\n",
            " [1 1 1 1]\n",
            " [1 1 1 1]\n",
            " [1 1 1 1]]\n",
            "--------------------------------------------\n",
            "The full array is : \n",
            " [[6 6 6 6]\n",
            " [6 6 6 6]\n",
            " [6 6 6 6]\n",
            " [6 6 6 6]]\n"
          ]
        }
      ]
    },
    {
      "cell_type": "markdown",
      "source": [
        "14. Celsius to Fahrenheit Conversion\n",
        "\n",
        "Write a NumPy program to convert Centigrade degrees into Fahrenheit degrees. Centigrade values are stored in a NumPy array.\n",
        "\n",
        "Sample Array [0, 12, 45.21, 34, 99.91]\n",
        "[-17.78, -11.11, 7.34, 1.11, 37.73, 0. ]\n",
        "\n",
        "Expected Output:\n",
        "\n",
        "Values in Fahrenheit degrees:\n",
        "[ 0. 12. 45.21 34. 99.91 32. ]\n",
        "\n",
        "Values in Centigrade degrees:\n",
        "[-17.78 -11.11 7.34 1.11 37.73 0. ]\n",
        "\n",
        "Values in Centigrade degrees:\n",
        "[-17.78 -11.11 7.34 1.11 37.73 0. ]\n",
        "\n",
        "Values in Fahrenheit degrees:\n",
        "[-0. 12. 45.21 34. 99.91 32. ]"
      ],
      "metadata": {
        "id": "0B6_j9N-LeoX"
      }
    },
    {
      "cell_type": "code",
      "source": [
        "Celsius_array = np.array([0 ,12 ,45.21 ,34 ,99.91])\n",
        "Fahrenheit_array = Celsius_array * 1.8 +32\n",
        "print(Fahrenheit_array)"
      ],
      "metadata": {
        "colab": {
          "base_uri": "https://localhost:8080/"
        },
        "id": "PTFT6YqWLN4A",
        "outputId": "4aef188d-bddc-4f77-faa4-be5e67619073"
      },
      "execution_count": null,
      "outputs": [
        {
          "output_type": "stream",
          "name": "stdout",
          "text": [
            "[ 32.     53.6   113.378  93.2   211.838]\n"
          ]
        }
      ]
    },
    {
      "cell_type": "markdown",
      "source": [
        "15. Array Elements Count & Memory Usage\n",
        "\n",
        "Write a NumPy program to find the number of elements in an array. It also finds the length of one array element in bytes and the total bytes consumed by the elements.\n",
        "\n",
        "Expected Output:\n",
        "\n",
        "Size of the array: 3\n",
        "Length of one array element in bytes: 8\n",
        "Total bytes consumed by the elements of the array: 24"
      ],
      "metadata": {
        "id": "RtqNzh9DkoR6"
      }
    },
    {
      "cell_type": "code",
      "source": [
        "arr = np.array([10 , 25 , 33 , 44])\n",
        "n_elements = arr.size\n",
        "print(\"array : \" , arr)\n",
        "print(\"number of elements in an array : \" , n_elements)\n",
        "length_one_esize = arr.itemsize\n",
        "print(\"length of one array element in bytes : \" ,length_one_esize)\n",
        "total_bytes = arr.nbytes\n",
        "print(\"total bytes consumed by the elements : \" , total_bytes)"
      ],
      "metadata": {
        "id": "ZkLa2mS8NJeu",
        "colab": {
          "base_uri": "https://localhost:8080/"
        },
        "outputId": "ca8e15a9-24da-4c9c-920c-ce60612561f5"
      },
      "execution_count": null,
      "outputs": [
        {
          "output_type": "stream",
          "name": "stdout",
          "text": [
            "array :  [10 25 33 44]\n",
            "number of elements in an array :  4\n",
            "length of one array element in bytes :  8\n",
            "total bytes consumed by the elements :  32\n"
          ]
        }
      ]
    },
    {
      "cell_type": "markdown",
      "source": [
        "16. 1D Array Element Check in Another Array\n",
        "\n",
        "Write a NumPy program to test whether each element of a 1-D array is also present in a second array.\n",
        "\n",
        "Expected Output:\n",
        "\n",
        "Array1: [ 0 10 20 40 60]\n",
        "Array2: [0, 40]\n",
        "\n",
        "Compare each element of array1 and array2\n",
        "[ True False False True False]"
      ],
      "metadata": {
        "id": "R9oZw4KBmutO"
      }
    },
    {
      "cell_type": "code",
      "source": [
        "a1 = np.array([0 , 10 ,20 ,40 ,60])\n",
        "a2 = np.array([0 ,40])\n",
        "print(np.in1d(a1,a2))"
      ],
      "metadata": {
        "colab": {
          "base_uri": "https://localhost:8080/"
        },
        "id": "oZU8RRA7lN95",
        "outputId": "e6013a57-8401-4045-bd5e-12eb1746f1d1"
      },
      "execution_count": null,
      "outputs": [
        {
          "output_type": "stream",
          "name": "stdout",
          "text": [
            "[ True False False  True False]\n"
          ]
        },
        {
          "output_type": "stream",
          "name": "stderr",
          "text": [
            "/tmp/ipython-input-13-3176497671.py:3: DeprecationWarning: `in1d` is deprecated. Use `np.isin` instead.\n",
            "  print(np.in1d(a1,a2))\n"
          ]
        }
      ]
    },
    {
      "cell_type": "markdown",
      "source": [
        "17. Unique Elements of Array\n",
        "\n",
        "Write a NumPy program to get the unique elements of an array.\n",
        "\n",
        "Expected Output:\n",
        "\n",
        "Original array:\n",
        "\n",
        "[10 10 20 20 30 30]\n",
        "\n",
        "Unique elements of the above array:\n",
        "[10 20 30]\n",
        "\n",
        "Original array:\n",
        "[[1 1]\n",
        "[2 3]]\n",
        "\n",
        "Unique elements of the above array:\n",
        "[1 2 3]"
      ],
      "metadata": {
        "id": "VNNhP88npHYb"
      }
    },
    {
      "cell_type": "code",
      "source": [
        "a = np.array([10 , 10 ,20 ,20 ,30 ,30])\n",
        "uniqe = np.unique(a)\n",
        "print(\"original array : \" , a)\n",
        "print(\"uniqe array : \" , uniqe)"
      ],
      "metadata": {
        "colab": {
          "base_uri": "https://localhost:8080/"
        },
        "id": "9QhQMG5-ourl",
        "outputId": "4cf50be2-5c51-4127-f80b-64bc078f877f"
      },
      "execution_count": null,
      "outputs": [
        {
          "output_type": "stream",
          "name": "stdout",
          "text": [
            "original array :  [10 10 20 20 30 30]\n",
            "uniqe array :  [10 20 30]\n"
          ]
        }
      ]
    },
    {
      "cell_type": "markdown",
      "source": [
        "18. Set Difference of Arrays\n",
        "\n",
        "Write a NumPy program to find the set difference between two arrays. The set difference will return sorted, distinct values in array1 that are not in array2.\n",
        "\n",
        "Expected Output:\n",
        "\n",
        "Array1: [ 0 10 20 40 60 80]\n",
        "Array2: [10, 30, 40, 50, 70, 90]\n",
        "\n",
        "Set difference between two arrays:\n",
        "[ 0 20 60 80]"
      ],
      "metadata": {
        "id": "yX4ITZSZp0zS"
      }
    },
    {
      "cell_type": "code",
      "source": [
        "a1 = np.array([0 , 10 ,20 ,40 ,60])\n",
        "a2 = np.array([0 ,40])\n",
        "print(np.setdiff1d(a1 , a2))"
      ],
      "metadata": {
        "colab": {
          "base_uri": "https://localhost:8080/"
        },
        "id": "S02Z3gQPpmBz",
        "outputId": "31f499d2-c009-4533-8977-f5fcdf606b96"
      },
      "execution_count": null,
      "outputs": [
        {
          "output_type": "stream",
          "name": "stdout",
          "text": [
            "[10 20 60]\n"
          ]
        }
      ]
    },
    {
      "cell_type": "markdown",
      "source": [
        "19. Union of Two Arrays\n",
        "\n",
        "Write a NumPy program to find the union of two arrays. Union will return a unique, sorted array of values in each of the two input arrays.\n",
        "\n",
        "Array1: [ 0 10 20 40 60 80]\n",
        "Array2: [10, 30, 40, 50, 70]\n",
        "\n",
        "Unique sorted array of values that are in either of the two input arrays:\n",
        "[ 0 10 20 30 40 50 60 70 80]\n",
        "\n"
      ],
      "metadata": {
        "id": "PcPV8JGFq3Wm"
      }
    },
    {
      "cell_type": "code",
      "source": [
        "a1 = np.array([0, 10, 20, 40 ,60 ,80])\n",
        "a2 = np.array([10, 30, 40, 50, 70])\n",
        "print(\"the union : \" ,np.union1d(a1 , a2))"
      ],
      "metadata": {
        "colab": {
          "base_uri": "https://localhost:8080/"
        },
        "id": "nM8LcNc8qCpZ",
        "outputId": "cdc5a7c0-eb43-42a1-a1d5-b247000643b2"
      },
      "execution_count": null,
      "outputs": [
        {
          "output_type": "stream",
          "name": "stdout",
          "text": [
            "the union :  [ 0 10 20 30 40 50 60 70 80]\n"
          ]
        }
      ]
    },
    {
      "cell_type": "markdown",
      "source": [
        "20. Indices of Max/Min Along Axis\n",
        "\n",
        "Write a NumPy program to find the indices of the maximum and minimum values along the given axis of an array.\n",
        "\n",
        "Original array: [1 2 3 4 5 6]\n",
        "\n",
        "Maximum Values: 5\n",
        "Minimum Values: 0"
      ],
      "metadata": {
        "id": "yfaAiDunsBIZ"
      }
    },
    {
      "cell_type": "code",
      "source": [
        "a = np.array([1,2,3,4,5,6])\n",
        "print(\"Maximum index : \" , np.argmax(a))\n",
        "print(\"Minumun index : \" , np.argmin(a))"
      ],
      "metadata": {
        "colab": {
          "base_uri": "https://localhost:8080/"
        },
        "id": "Q05_SiSZrbux",
        "outputId": "7239f0e2-46ee-430a-859a-9097ed304421"
      },
      "execution_count": null,
      "outputs": [
        {
          "output_type": "stream",
          "name": "stdout",
          "text": [
            "Maximum index :  5\n",
            "Minumun index :  0\n"
          ]
        }
      ]
    },
    {
      "cell_type": "markdown",
      "source": [
        "# NumPy Statistics: Mean, Median, Covariance Exercises"
      ],
      "metadata": {
        "id": "HSnLsKyDztpP"
      }
    },
    {
      "cell_type": "markdown",
      "source": [
        "1. Maximum and Minimum of Flattened Array\n",
        "\n",
        "Write a Python program to find the maximum and minimum value of a given flattened array.\n",
        "\n",
        "\n",
        "Expected Output:\n",
        "Original flattened array:\n",
        "[[0 1]\n",
        "[2 3]]\n",
        "Maximum value of the above flattened array:\n",
        "3\n",
        "Minimum value of the above flattened array:\n",
        "0"
      ],
      "metadata": {
        "id": "DyJ0naZz3xB6"
      }
    },
    {
      "cell_type": "code",
      "source": [
        "a = np.array([[0,1] , [2 , 3]])\n",
        "print(\"The original array : \\n\", a)\n",
        "b = a.flatten()\n",
        "print(\"array after flateen : \",b)\n",
        "print(\"The maximum value of the flatten array is : \" , b.max())\n",
        "print(\"The minumum value of the flatten array is : \" , b.min())"
      ],
      "metadata": {
        "id": "kyclGmAcsaOS",
        "colab": {
          "base_uri": "https://localhost:8080/"
        },
        "outputId": "0182e082-43b4-4d21-c80d-bcd67414d206"
      },
      "execution_count": null,
      "outputs": [
        {
          "output_type": "stream",
          "name": "stdout",
          "text": [
            "The original array : \n",
            " [[0 1]\n",
            " [2 3]]\n",
            "array after flateen :  [0 1 2 3]\n",
            "The maximum value of the flatten array is :  3\n",
            "The minumum value of the flatten array is :  0\n"
          ]
        }
      ]
    },
    {
      "cell_type": "markdown",
      "source": [
        "2. Minimum and Maximum Along Second Axis\n",
        "\n",
        "Write a NumPy program to get the minimum and maximum value of a given array along the second axis.\n",
        "\n",
        "Expected Output:\n",
        "Original array:\n",
        "[[0 1]\n",
        "[2 3]]\n",
        "Maximum value along the second axis:\n",
        "[1 3]\n",
        "Minimum value along the second axis:\n",
        "[0 2]"
      ],
      "metadata": {
        "id": "1U1CAO3V4_TR"
      }
    },
    {
      "cell_type": "code",
      "source": [
        "print(\"The original array : \\n\", a)\n",
        "print(\"The max value in x-axis is : \" , a.max(axis=1))\n",
        "print(\"The min value in x-axis is : \" , a.min(axis=1))"
      ],
      "metadata": {
        "colab": {
          "base_uri": "https://localhost:8080/"
        },
        "id": "qCYs86qw4N9Q",
        "outputId": "9da342aa-19d1-4050-ed17-fa3594396f71"
      },
      "execution_count": null,
      "outputs": [
        {
          "output_type": "stream",
          "name": "stdout",
          "text": [
            "The original array : \n",
            " [[0 1]\n",
            " [2 3]]\n",
            "The max value in x-axis is :  [1 3]\n",
            "The min value in x-axis is :  [0 2]\n"
          ]
        }
      ]
    },
    {
      "cell_type": "markdown",
      "source": [
        "3. 80th Percentile Along Second Axis\n",
        "\n",
        "Write a NumPy program to compute the 80th percentile for all elements in a given array along the second axis."
      ],
      "metadata": {
        "id": "Bld8uE5p8M7i"
      }
    },
    {
      "cell_type": "code",
      "source": [
        "x = np.arange(12).reshape((2, 6))\n",
        "\n",
        "print(\"\\nOriginal array:\")\n",
        "print(x)\n",
        "r1 = np.percentile(x, 80, 1)\n",
        "\n",
        "print(\"\\n80th percentile for all elements of the said array along the second axis:\")\n",
        "print(r1)\n"
      ],
      "metadata": {
        "colab": {
          "base_uri": "https://localhost:8080/"
        },
        "id": "Lpdg0ovX5C6p",
        "outputId": "4b925bf9-dd54-4337-8028-f739416a1996"
      },
      "execution_count": null,
      "outputs": [
        {
          "output_type": "stream",
          "name": "stdout",
          "text": [
            "\n",
            "Original array:\n",
            "[[ 0  1  2  3  4  5]\n",
            " [ 6  7  8  9 10 11]]\n",
            "\n",
            "80th percentile for all elements of the said array along the second axis:\n",
            "[ 4. 10.]\n"
          ]
        }
      ]
    },
    {
      "cell_type": "markdown",
      "source": [
        "4. Median of Flattened Array\n",
        "\n",
        "Write a NumPy program to compute the median of flattened given array.\n",
        "\n",
        "Note: First array elements raised to powers from second array\n",
        "Expected Output:\n",
        "Original array:\n",
        "[[ 0 1 2 3 4 5]\n",
        "[ 6 7 8 9 10 11]]\n",
        "Median of said array:\n",
        "5.5"
      ],
      "metadata": {
        "id": "6GKZAKDy-YM3"
      }
    },
    {
      "cell_type": "code",
      "source": [
        "a = np.array([[ 0,  1, 2,3, 4, 5], [ 6, 7, 8, 9, 10, 11]])\n",
        "flatten_array = a.flatten()\n",
        "print(\"the median of the flatten array is : \", np.median(flatten_array))"
      ],
      "metadata": {
        "id": "2uSsieod-K6f",
        "colab": {
          "base_uri": "https://localhost:8080/"
        },
        "outputId": "22ef79c2-c102-472f-842d-e3aea07b8d75"
      },
      "execution_count": null,
      "outputs": [
        {
          "output_type": "stream",
          "name": "stdout",
          "text": [
            "the median of the flatten array is :  5.5\n"
          ]
        }
      ]
    },
    {
      "cell_type": "markdown",
      "source": [
        "5. Weighted Average of an Array\n",
        "\n",
        "Write a NumPy program to compute the weighted of a given array.\n",
        "\n",
        "\n",
        "Sample Output:\n",
        "Original array:\n",
        "[0 1 2 3 4]\n",
        "Weighted average of the said array:\n",
        "2.6666666666666665"
      ],
      "metadata": {
        "id": "tO7N_E6xSuZR"
      }
    },
    {
      "cell_type": "code",
      "source": [
        "a = np.array([0 , 1 ,2 ,3 ,4])\n",
        "print(\"the wegited average is : \" , np.mean(a))"
      ],
      "metadata": {
        "colab": {
          "base_uri": "https://localhost:8080/"
        },
        "id": "vLXPwUtmHHFs",
        "outputId": "3f1bc8ae-33bc-48ca-8198-5043609bed9a"
      },
      "execution_count": null,
      "outputs": [
        {
          "output_type": "stream",
          "name": "stdout",
          "text": [
            "the wegited average is :  2.0\n"
          ]
        }
      ]
    },
    {
      "cell_type": "markdown",
      "source": [
        "6. Mean, Standard Deviation, and Variance Along Second Axis\n",
        "\n",
        "Write a NumPy program to compute the mean, standard deviation, and variance of a given array along the second axis.\n",
        "\n",
        "Sample output:\n",
        "Original array:\n",
        "[0 1 2 3 4 5]\n",
        "Mean: 2.5\n",
        "std: 1\n",
        "variance: 2.916666666666666"
      ],
      "metadata": {
        "id": "2SPxsRbaTuyN"
      }
    },
    {
      "cell_type": "code",
      "source": [
        "a = np.array([0 , 1 ,2 ,3 ,4 , 5])\n",
        "print(\"the wegited average is : \" , np.mean(a))\n",
        "print(\"the wegited std is : \" , np.std(a))\n",
        "print(\"the wegited var is : \" , np.var(a))"
      ],
      "metadata": {
        "colab": {
          "base_uri": "https://localhost:8080/"
        },
        "id": "mGwa1f9kTbXq",
        "outputId": "759bbf09-fb2f-4153-fb54-a9e5defe3d07"
      },
      "execution_count": null,
      "outputs": [
        {
          "output_type": "stream",
          "name": "stdout",
          "text": [
            "the wegited average is :  2.5\n",
            "the wegited std is :  1.707825127659933\n",
            "the wegited var is :  2.9166666666666665\n"
          ]
        }
      ]
    },
    {
      "cell_type": "markdown",
      "source": [
        "7. Covariance Matrix of Two Arrays\n",
        "\n",
        "Write a NumPy program to compute the covariance matrix of two given arrays.\n",
        "\n",
        "Sample Output:\n",
        "Original array1:\n",
        "[0 1 2]\n",
        "Original array1:\n",
        "[2 1 0]\n",
        "Covariance matrix of the said arrays:\n",
        "[[ 1. -1.]\n",
        "[-1. 1.]]"
      ],
      "metadata": {
        "id": "aiR026kKUHYu"
      }
    },
    {
      "cell_type": "code",
      "source": [
        "a1 = np.array([0 , 1 , 2 ])\n",
        "a2 = np.array([2 , 1 ,0])\n",
        "np.cov(a1 , a2)"
      ],
      "metadata": {
        "colab": {
          "base_uri": "https://localhost:8080/"
        },
        "id": "4kIQcJ4FT-RF",
        "outputId": "1b4fd51a-8627-49b1-cfb9-c0160ea43b91"
      },
      "execution_count": null,
      "outputs": [
        {
          "output_type": "execute_result",
          "data": {
            "text/plain": [
              "array([[ 1., -1.],\n",
              "       [-1.,  1.]])"
            ]
          },
          "metadata": {},
          "execution_count": 18
        }
      ]
    },
    {
      "cell_type": "markdown",
      "source": [
        "8. Cross-Correlation of Two Arrays\n",
        "\n",
        "Write a NumPy program to compute cross-correlation of two given arrays.\n",
        "\n",
        "Sample Output:\n",
        "Original array1:\n",
        "[0 1 3]\n",
        "Original array1:\n",
        "[2 4 5]\n",
        "Cross-correlation of the said arrays:\n",
        "[19]"
      ],
      "metadata": {
        "id": "pnDTzYcwXisE"
      }
    },
    {
      "cell_type": "code",
      "source": [
        "a1 = np.array([0 , 1 , 3])\n",
        "a2 = np.array([2 , 4 ,5])\n",
        "np.correlate(a1 , a2)"
      ],
      "metadata": {
        "colab": {
          "base_uri": "https://localhost:8080/"
        },
        "id": "6G2EfvixXX-N",
        "outputId": "7336ab58-0354-4c68-d11e-4129885ed72c"
      },
      "execution_count": null,
      "outputs": [
        {
          "output_type": "execute_result",
          "data": {
            "text/plain": [
              "array([19])"
            ]
          },
          "metadata": {},
          "execution_count": 20
        }
      ]
    },
    {
      "cell_type": "markdown",
      "source": [
        "9. Pearson Product-Moment Correlation Coefficients\n",
        "\n",
        "Write a NumPy program to compute pearson product-moment correlation coefficients of two given arrays.\n",
        "\n",
        "Sample Output:\n",
        "Original array1:\n",
        "[0 1 3]\n",
        "Original array1:\n",
        "[2 4 5]\n",
        "Pearson product-moment correlation coefficients of the said arrays:\n",
        "[[1. 0.92857143]\n",
        "[0.92857143 1. ]]"
      ],
      "metadata": {
        "id": "XEcxu5w-Y4Ix"
      }
    },
    {
      "cell_type": "code",
      "source": [
        "a1 = np.array([0 , 1 , 3])\n",
        "a2 = np.array([2 , 4 ,5])\n",
        "np.corrcoef(a1 , a2)"
      ],
      "metadata": {
        "colab": {
          "base_uri": "https://localhost:8080/"
        },
        "id": "PzqkLEX9X5a_",
        "outputId": "11f7d3d7-bb46-4cdd-fa53-5b0b2a804c2f"
      },
      "execution_count": null,
      "outputs": [
        {
          "output_type": "execute_result",
          "data": {
            "text/plain": [
              "array([[1.        , 0.92857143],\n",
              "       [0.92857143, 1.        ]])"
            ]
          },
          "metadata": {},
          "execution_count": 21
        }
      ]
    },
    {
      "cell_type": "markdown",
      "source": [
        "10. Weighted Average Along Specified Axis of a Flattened Array\n",
        "\n",
        "Write a Python NumPy program to compute the weighted average along the specified axis of a given flattened array.\n",
        "\n",
        "From Wikipedia: The weighted arithmetic mean is similar to an ordinary arithmetic mean (the most common type of average), except that instead of each of the data points contributing equally to the final average, some data points contribute more than others. The notion of weighted mean plays a role in descriptive statistics and also occurs in a more general form in several other areas of mathematics.\n",
        "\n",
        "Sample output:\n",
        "Original flattened array:\n",
        "[[0 1 2]\n",
        "[3 4 5]\n",
        "[6 7 8]]\n",
        "Weighted average along the specified axis of the above flattened array:\n",
        "[1.2 4.2 7.2]"
      ],
      "metadata": {
        "id": "1Xxqaa_0ZkYs"
      }
    },
    {
      "cell_type": "code",
      "source": [
        "a = np.array([[0 , 1 , 2] , [3 , 4 ,5] , [6 , 7 ,8]])\n",
        "weights = [1 , 2 ,3]\n",
        "np.average(a ,axis=0 , weights=weights)"
      ],
      "metadata": {
        "colab": {
          "base_uri": "https://localhost:8080/"
        },
        "id": "JJFZw6veZFle",
        "outputId": "293234b1-70f5-44cb-d6c1-d657b327b877"
      },
      "execution_count": null,
      "outputs": [
        {
          "output_type": "execute_result",
          "data": {
            "text/plain": [
              "array([4., 5., 6.])"
            ]
          },
          "metadata": {},
          "execution_count": 27
        }
      ]
    },
    {
      "cell_type": "markdown",
      "source": [
        "#NumPy Advanced Indexing:"
      ],
      "metadata": {
        "id": "Q8v_-vvGI0a5"
      }
    },
    {
      "cell_type": "markdown",
      "source": [
        "1. 2D Array Random Integers & Boolean Indexing\n",
        "\n",
        "Write a NumPy program that creates a 2D NumPy array of random integers. Use boolean indexing to select all elements greater than a specified value."
      ],
      "metadata": {
        "id": "uHOuvcv2I5rr"
      }
    },
    {
      "cell_type": "code",
      "source": [
        "a = np.random.randint(0 ,100 ,size= (5,5))\n",
        "th = 50\n",
        "b = a[a>th]\n",
        "print('Original 2D array:\\n', a)\n",
        "print(f'\\nElements greater than {th}:\\n', b)"
      ],
      "metadata": {
        "id": "xkPfh-_pbN9z",
        "colab": {
          "base_uri": "https://localhost:8080/"
        },
        "outputId": "bba48acc-3d51-44c5-a7aa-8e929568c461"
      },
      "execution_count": 10,
      "outputs": [
        {
          "output_type": "stream",
          "name": "stdout",
          "text": [
            "Original 2D array:\n",
            " [[ 7  9 70 52  0]\n",
            " [52 70 40  2 79]\n",
            " [21 44  7  9 13]\n",
            " [80 18 70 61 16]\n",
            " [16 10 88 61 31]]\n",
            "\n",
            "Elements greater than 50:\n",
            " [70 52 52 70 79 80 70 61 88 61]\n"
          ]
        }
      ]
    },
    {
      "cell_type": "markdown",
      "source": [
        "2. 1D Array & Integer Array Indexing\n",
        "\n",
        "Write a NumPy program that creates a 1D NumPy array and uses integer array indexing to select a subset of elements based on an index array."
      ],
      "metadata": {
        "id": "r8LD6OEHMjUV"
      }
    },
    {
      "cell_type": "code",
      "source": [
        "array_1d = np.array([10, 20, 30, 40, 50, 60, 70, 80, 90, 100])\n",
        "\n",
        "index_array = np.array([0, 2, 4, 6, 8])\n",
        "\n",
        "selected_elements = array_1d[index_array]\n",
        "\n",
        "print('Original 1D array:\\n', array_1d)\n",
        "print('Index array:\\n', index_array)\n",
        "print('Selected elements:\\n', selected_elements)\n"
      ],
      "metadata": {
        "colab": {
          "base_uri": "https://localhost:8080/"
        },
        "id": "NKJiPKujK_Kn",
        "outputId": "f8ce3715-058a-43c2-d315-1f5331818fa2"
      },
      "execution_count": 11,
      "outputs": [
        {
          "output_type": "stream",
          "name": "stdout",
          "text": [
            "Original 1D array:\n",
            " [ 10  20  30  40  50  60  70  80  90 100]\n",
            "Index array:\n",
            " [0 2 4 6 8]\n",
            "Selected elements:\n",
            " [10 30 50 70 90]\n"
          ]
        }
      ]
    },
    {
      "cell_type": "markdown",
      "source": [
        "3. 4D Array & Multi-dimensional Indexing\n",
        "\n",
        "Multi-dimensional Indexing:\n",
        "\n",
        "Write a NumPy program that creates a 4D NumPy array and uses multi-dimensional indexing to select a subarray."
      ],
      "metadata": {
        "id": "XRddFHftNZfI"
      }
    },
    {
      "cell_type": "code",
      "source": [
        "array_4d = np.random.randint(0, 100, size=(3, 4, 5, 6))\n",
        "\n",
        "\n",
        "subarray = array_4d[:2, :3, :4, :5]\n",
        "\n",
        "print('Original 4D array shape:', array_4d.shape)\n",
        "print('Selected subarray shape:', subarray.shape)\n",
        "print('Selected subarray:\\n', subarray)\n"
      ],
      "metadata": {
        "colab": {
          "base_uri": "https://localhost:8080/"
        },
        "id": "Ct38AGp-MF5V",
        "outputId": "5d2d1d74-0c86-4681-f973-7d0e34a38743"
      },
      "execution_count": 12,
      "outputs": [
        {
          "output_type": "stream",
          "name": "stdout",
          "text": [
            "Original 4D array shape: (3, 4, 5, 6)\n",
            "Selected subarray shape: (2, 3, 4, 5)\n",
            "Selected subarray:\n",
            " [[[[33 51 55 52 18]\n",
            "   [93 92 51 23 38]\n",
            "   [74 87 55 26  5]\n",
            "   [95 18 59  9 37]]\n",
            "\n",
            "  [[ 9 44 84 66 90]\n",
            "   [40  9 69 53 57]\n",
            "   [43 61 80 11 96]\n",
            "   [25 52 20  4 18]]\n",
            "\n",
            "  [[27 76 17 41 19]\n",
            "   [48 40 74 78 24]\n",
            "   [71 40 80 78 92]\n",
            "   [32 94 57 92 39]]]\n",
            "\n",
            "\n",
            " [[[16 19 98 24 32]\n",
            "   [46 30 22 21 81]\n",
            "   [42 41 95 49 97]\n",
            "   [64 55 33 18 11]]\n",
            "\n",
            "  [[87 13 13 72 34]\n",
            "   [94 46 94 24 66]\n",
            "   [77 60 94 18 14]\n",
            "   [46 21 60 20 15]]\n",
            "\n",
            "  [[17 27 34 61  5]\n",
            "   [99  9  4 70 79]\n",
            "   [61 11 86 28 93]\n",
            "   [70 63 50 55 43]]]]\n"
          ]
        }
      ]
    },
    {
      "cell_type": "markdown",
      "source": [
        "4. 2D Random Floats & Multiple Condition Boolean Indexing\n",
        "\n",
        "Boolean Indexing with Conditions:\n",
        "\n",
        "Write a NumPy program that creates a 2D NumPy array of random floats and uses boolean indexing to select elements that satisfy multiple conditions (e.g., greater than 0.5 and less than 0.8)."
      ],
      "metadata": {
        "id": "7FIN0IkHNlzV"
      }
    },
    {
      "cell_type": "code",
      "source": [
        "array_2d = np.random.rand(5, 5)\n",
        "\n",
        "condition1 = array_2d > 0.5\n",
        "condition2 = array_2d < 0.8\n",
        "\n",
        "selected_elements = array_2d[condition1 & condition2]\n",
        "\n",
        "print('Original 2D array:\\n', array_2d)\n",
        "print('Elements greater than 0.5 and less than 0.8:\\n', selected_elements)\n"
      ],
      "metadata": {
        "colab": {
          "base_uri": "https://localhost:8080/"
        },
        "id": "8-3WVJxHNUKb",
        "outputId": "133e7347-d14b-437b-f42a-3c8039624857"
      },
      "execution_count": 13,
      "outputs": [
        {
          "output_type": "stream",
          "name": "stdout",
          "text": [
            "Original 2D array:\n",
            " [[0.9061356  0.33389125 0.88871923 0.75639905 0.8623062 ]\n",
            " [0.5964211  0.77820325 0.31831768 0.97775707 0.34182002]\n",
            " [0.33791928 0.41716352 0.32819565 0.67268289 0.44387764]\n",
            " [0.68446535 0.75528963 0.34917129 0.26977818 0.64115921]\n",
            " [0.72398085 0.99065    0.04057982 0.76195775 0.82638995]]\n",
            "Elements greater than 0.5 and less than 0.8:\n",
            " [0.75639905 0.5964211  0.77820325 0.67268289 0.68446535 0.75528963\n",
            " 0.64115921 0.72398085 0.76195775]\n"
          ]
        }
      ]
    },
    {
      "cell_type": "markdown",
      "source": [
        "5. Sort Array Along Different Axes\n",
        "\n",
        "Write a NumPy program to sort a given array of shape 2 along the first axis, last axis and on flattened array."
      ],
      "metadata": {
        "id": "Neo1Zf3uOKWC"
      }
    },
    {
      "cell_type": "code",
      "source": [
        "a = np.array([[10, 40], [30, 20]])\n",
        "\n",
        "print(\"Original array:\")\n",
        "print(a)\n",
        "\n",
        "print(\"Sort the array along the first axis:\")\n",
        "print(np.sort(a, axis=0))\n",
        "\n",
        "print(\"Sort the array along the last axis:\")\n",
        "print(np.sort(a))\n",
        "\n",
        "print(\"Sort the flattened array:\")\n",
        "print(np.sort(a, axis=None))\n"
      ],
      "metadata": {
        "colab": {
          "base_uri": "https://localhost:8080/"
        },
        "id": "g-OqNvRLNsd6",
        "outputId": "c667bd5b-c688-421b-b40f-692405015198"
      },
      "execution_count": 14,
      "outputs": [
        {
          "output_type": "stream",
          "name": "stdout",
          "text": [
            "Original array:\n",
            "[[10 40]\n",
            " [30 20]]\n",
            "Sort the array along the first axis:\n",
            "[[10 20]\n",
            " [30 40]]\n",
            "Sort the array along the last axis:\n",
            "[[10 40]\n",
            " [20 30]]\n",
            "Sort the flattened array:\n",
            "[10 20 30 40]\n"
          ]
        }
      ]
    },
    {
      "cell_type": "markdown",
      "source": [
        "6. Structured Array Sorted by Height\n",
        "\n",
        "Write a NumPy program to create a structured array from given student name, height, class and their data types. Now sort the array on height.\n",
        "\n",
        "Sample Output:\n",
        "Original array:\n",
        "[(b'James', 5, 48.5 ) (b'Nail', 6, 52.5 ) (b'Paul', 5, 42.1 )\n",
        "(b'Pit', 5, 40.11)]\n",
        "Sort by height\n",
        "[(b'Pit', 5, 40.11) (b'Paul', 5, 42.1 ) (b'James', 5, 48.5 )\n",
        "(b'Nail', 6, 52.5 )]"
      ],
      "metadata": {
        "id": "b-cXYNxxObCL"
      }
    },
    {
      "cell_type": "code",
      "source": [
        "data_type = [('name', 'S15'), ('class', int), ('height', float)]\n",
        "\n",
        "students_details = [('James', 5, 48.5), ('Nail', 6, 52.5), ('Paul', 5, 42.10), ('Pit', 5, 40.11)]\n",
        "\n",
        "students = np.array(students_details, dtype=data_type)\n",
        "\n",
        "print(\"Original array:\")\n",
        "print(students)\n",
        "\n",
        "print(\"Sort by height\")\n",
        "print(np.sort(students, order='height'))\n"
      ],
      "metadata": {
        "colab": {
          "base_uri": "https://localhost:8080/"
        },
        "id": "mWbvJ4hoOT2R",
        "outputId": "e53cc50a-459a-4306-c6e0-66fb3e1628ef"
      },
      "execution_count": 15,
      "outputs": [
        {
          "output_type": "stream",
          "name": "stdout",
          "text": [
            "Original array:\n",
            "[(b'James', 5, 48.5 ) (b'Nail', 6, 52.5 ) (b'Paul', 5, 42.1 )\n",
            " (b'Pit', 5, 40.11)]\n",
            "Sort by height\n",
            "[(b'Pit', 5, 40.11) (b'Paul', 5, 42.1 ) (b'James', 5, 48.5 )\n",
            " (b'Nail', 6, 52.5 )]\n"
          ]
        }
      ]
    },
    {
      "cell_type": "markdown",
      "source": [
        "7. Structured Array Sorted by Class Then Height\n",
        "\n",
        "Write a NumPy program to create a structured array from given student name, height, class and their data types. Now sort by class, then height if class are equal.\n",
        "\n",
        "Expected Output:\n",
        "Original array:\n",
        "[(b'James', 5, 48.5 ) (b'Nail', 6, 52.5 ) (b'Paul', 5, 42.1 ) (b'Pit', 5, 40.11)]\n",
        "Sort by age, then height if class are equal:\n",
        "[(b'Pit', 5, 40.11) (b'Paul', 5, 42.1 ) (b'James', 5, 48.5 ) (b'Nail', 6, 52.5 )]"
      ],
      "metadata": {
        "id": "izV8_FAxO8ef"
      }
    },
    {
      "cell_type": "code",
      "source": [
        "data_type = [('name', 'S15'), ('class', int), ('height', float)]\n",
        "\n",
        "students_details = [('James', 5, 48.5), ('Nail', 6, 52.5), ('Paul', 5, 42.10), ('Pit', 5, 40.11)]\n",
        "\n",
        "students = np.array(students_details, dtype=data_type)\n",
        "\n",
        "print(\"Original array:\")\n",
        "print(students)\n",
        "\n",
        "print(\"Sort by class, then height if class are equal:\")\n",
        "print(np.sort(students, order=['class', 'height']))\n"
      ],
      "metadata": {
        "colab": {
          "base_uri": "https://localhost:8080/"
        },
        "id": "7zGJIKK3OkN8",
        "outputId": "78dee05f-6ee2-4b9f-9b6d-c29caaef4305"
      },
      "execution_count": 17,
      "outputs": [
        {
          "output_type": "stream",
          "name": "stdout",
          "text": [
            "Original array:\n",
            "[(b'James', 5, 48.5 ) (b'Nail', 6, 52.5 ) (b'Paul', 5, 42.1 )\n",
            " (b'Pit', 5, 40.11)]\n",
            "Sort by class, then height if class are equal:\n",
            "[(b'Pit', 5, 40.11) (b'Paul', 5, 42.1 ) (b'James', 5, 48.5 )\n",
            " (b'Nail', 6, 52.5 )]\n"
          ]
        }
      ]
    },
    {
      "cell_type": "markdown",
      "source": [
        "8. Sort Student IDs by Increasing Height\n",
        "\n",
        "Write a NumPy program to sort the student id with increasing height of the students from given students id and height. Print the integer indices that describes the sort order by multiple columns and the sorted data.\n",
        "\n",
        "Expected Output:\n",
        "Sorted indices:\n",
        "[4 0 5 3 6 1 2]\n",
        "Sorted data:\n",
        "1682 38.0\n",
        "1023 40.0\n",
        "5241 40.0\n",
        "1671 41.0\n",
        "4532 42.0\n",
        "5202 42.0\n",
        "6230 45.0"
      ],
      "metadata": {
        "id": "tOMWVT9VPamK"
      }
    },
    {
      "cell_type": "code",
      "source": [
        "student_id = np.array([1023, 5202, 6230, 1671, 1682, 5241, 4532])\n",
        "student_height = np.array([40., 42., 45., 41., 38., 40., 42.0])\n",
        "\n",
        "indices = np.lexsort((student_id, student_height))\n",
        "\n",
        "print(\"Sorted indices:\")\n",
        "print(indices)\n",
        "\n",
        "print(\"Sorted data:\")\n",
        "for n in indices:\n",
        "    print(student_id[n], student_height[n])\n"
      ],
      "metadata": {
        "colab": {
          "base_uri": "https://localhost:8080/"
        },
        "id": "t__KFMNQPRaY",
        "outputId": "97d72606-2795-49a0-f7eb-532103d9e8c7"
      },
      "execution_count": 18,
      "outputs": [
        {
          "output_type": "stream",
          "name": "stdout",
          "text": [
            "Sorted indices:\n",
            "[4 0 5 3 6 1 2]\n",
            "Sorted data:\n",
            "1682 38.0\n",
            "1023 40.0\n",
            "5241 40.0\n",
            "1671 41.0\n",
            "4532 42.0\n",
            "5202 42.0\n",
            "6230 45.0\n"
          ]
        }
      ]
    },
    {
      "cell_type": "markdown",
      "source": [
        "9. Sort Array by Nth Column\n",
        "\n",
        "Write a NumPy program to sort an given array by the nth column.\n",
        "\n",
        "Original array:\n",
        "[[1 5 0]\n",
        "[3 2 5]\n",
        "[8 7 6]]\n",
        "Sort the said array by the nth column:\n",
        "[[3 2 5]\n",
        "[1 5 0]\n",
        "[8 7 6]]"
      ],
      "metadata": {
        "id": "uQPW-WinP_lP"
      }
    },
    {
      "cell_type": "code",
      "source": [
        "print(\"Original array:\\n\")\n",
        "\n",
        "nums = np.random.randint(0, 10, (3, 3))\n",
        "\n",
        "print(nums)\n",
        "\n",
        "print(\"\\nSort the said array by the nth column: \")\n",
        "\n",
        "print(nums[nums[:, 1].argsort()])\n"
      ],
      "metadata": {
        "colab": {
          "base_uri": "https://localhost:8080/"
        },
        "id": "uG3xCQMFP0Xp",
        "outputId": "af30b354-cc6e-4696-e306-f8e7e3ee6425"
      },
      "execution_count": 19,
      "outputs": [
        {
          "output_type": "stream",
          "name": "stdout",
          "text": [
            "Original array:\n",
            "\n",
            "[[9 1 8]\n",
            " [8 4 6]\n",
            " [2 6 9]]\n",
            "\n",
            "Sort the said array by the nth column: \n",
            "[[9 1 8]\n",
            " [8 4 6]\n",
            " [2 6 9]]\n"
          ]
        }
      ]
    },
    {
      "cell_type": "markdown",
      "source": [
        "10. Random Normal Numbers\n",
        "\n",
        "Write a NumPy program to generate five random numbers from the normal distribution.\n",
        "\n",
        "Expected Output:\n",
        "[-0.43262625 -1.10836787 1.80791413 0.69287463 -0.53742101]"
      ],
      "metadata": {
        "id": "v4NZkMhHQdrH"
      }
    },
    {
      "cell_type": "code",
      "source": [
        "x = np.random.normal(size=5)\n",
        "\n",
        "print(x)\n"
      ],
      "metadata": {
        "colab": {
          "base_uri": "https://localhost:8080/"
        },
        "id": "r4Wln_SDQK9r",
        "outputId": "ca655d6f-94c9-4a96-b2aa-589bb41b7e03"
      },
      "execution_count": 20,
      "outputs": [
        {
          "output_type": "stream",
          "name": "stdout",
          "text": [
            "[ 1.6966626   2.0520365   1.12443882  1.31118765 -1.73581136]\n"
          ]
        }
      ]
    },
    {
      "cell_type": "markdown",
      "source": [
        "11. Random Integers in Range\n",
        "\n",
        "Write a NumPy program to generate six random integers between 10 and 30."
      ],
      "metadata": {
        "id": "rQRjrChXQ-_b"
      }
    },
    {
      "cell_type": "code",
      "source": [
        "x = np.random.randint(low=10, high=30, size=6)\n",
        "\n",
        "print(x)\n"
      ],
      "metadata": {
        "colab": {
          "base_uri": "https://localhost:8080/"
        },
        "id": "ikXXFNm9Qm65",
        "outputId": "ee873fc1-f2df-4951-95cf-ad8f5fefbb15"
      },
      "execution_count": 21,
      "outputs": [
        {
          "output_type": "stream",
          "name": "stdout",
          "text": [
            "[12 15 15 10 10 29]\n"
          ]
        }
      ]
    },
    {
      "cell_type": "markdown",
      "source": [
        "12. 3x3x3 Random Array\n",
        "\n",
        "Write a NumPy program to create a 3x3x3 array with random values."
      ],
      "metadata": {
        "id": "KD0ysbk9RJ5x"
      }
    },
    {
      "cell_type": "code",
      "source": [
        "x = np.random.random((3, 3, 3))\n",
        "print(x)\n"
      ],
      "metadata": {
        "colab": {
          "base_uri": "https://localhost:8080/"
        },
        "id": "V62VNk3PRFfd",
        "outputId": "25de7715-c7b6-4a8c-ac47-0f975ab0a5ab"
      },
      "execution_count": 22,
      "outputs": [
        {
          "output_type": "stream",
          "name": "stdout",
          "text": [
            "[[[0.08688406 0.94282601 0.32282204]\n",
            "  [0.00878345 0.09539735 0.51947   ]\n",
            "  [0.62750788 0.2775691  0.83651979]]\n",
            "\n",
            " [[0.82431627 0.85387955 0.5422267 ]\n",
            "  [0.17000743 0.54777559 0.94240851]\n",
            "  [0.83559829 0.12976135 0.37983952]]\n",
            "\n",
            " [[0.30910668 0.85900043 0.09867227]\n",
            "  [0.13818475 0.542355   0.38185608]\n",
            "  [0.67671067 0.20560909 0.85009838]]]\n"
          ]
        }
      ]
    },
    {
      "cell_type": "markdown",
      "source": [
        "13. 5x5 Array Min/Max\n",
        "\n",
        "Write a NumPy program to create a 5x5 array with random values and find the minimum and maximum values."
      ],
      "metadata": {
        "id": "_OUEr-ZZRplj"
      }
    },
    {
      "cell_type": "code",
      "source": [
        "x = np.random.random((5, 5))\n",
        "\n",
        "print(\"Original Array:\")\n",
        "print(x)\n",
        "\n",
        "xmin, xmax = x.min(), x.max()\n",
        "\n",
        "print(\"Minimum and Maximum Values:\")\n",
        "print(xmin, xmax)\n"
      ],
      "metadata": {
        "colab": {
          "base_uri": "https://localhost:8080/"
        },
        "id": "eYfkYzD6RQ7h",
        "outputId": "6a1ad6e2-459e-4931-912e-f33c2064e790"
      },
      "execution_count": 23,
      "outputs": [
        {
          "output_type": "stream",
          "name": "stdout",
          "text": [
            "Original Array:\n",
            "[[0.06223091 0.88937788 0.02905456 0.08858475 0.4451683 ]\n",
            " [0.80754313 0.96346548 0.4494492  0.46113746 0.56546649]\n",
            " [0.34032878 0.4328666  0.15868666 0.06530394 0.97461384]\n",
            " [0.16975662 0.03967013 0.76188256 0.93565608 0.26613061]\n",
            " [0.68951144 0.05451047 0.05133269 0.36409804 0.87919765]]\n",
            "Minimum and Maximum Values:\n",
            "0.02905456082821689 0.9746138377815047\n"
          ]
        }
      ]
    },
    {
      "cell_type": "markdown",
      "source": [
        "14. Extract First 5 Rows of 10x4 Array\n",
        "\n",
        "Write a NumPy program to create a random 10x4 array and extract the first five rows of the array and store them into a variable."
      ],
      "metadata": {
        "id": "YRQh0WwISFAd"
      }
    },
    {
      "cell_type": "code",
      "source": [
        "x = np.random.rand(10, 4)\n",
        "\n",
        "print(\"Original array:\")\n",
        "print(x)\n",
        "\n",
        "y = x[:5, :]\n",
        "\n",
        "print(\"First 5 rows of the above array:\")\n",
        "print(y)\n"
      ],
      "metadata": {
        "colab": {
          "base_uri": "https://localhost:8080/"
        },
        "id": "esut97QrR9z_",
        "outputId": "5ea65c76-0693-4a29-b6ce-57d6f774f5ef"
      },
      "execution_count": 24,
      "outputs": [
        {
          "output_type": "stream",
          "name": "stdout",
          "text": [
            "Original array:\n",
            "[[0.74146796 0.02425995 0.7185032  0.07941903]\n",
            " [0.71564044 0.88537457 0.82626552 0.61056115]\n",
            " [0.17370696 0.04014159 0.4445174  0.64934804]\n",
            " [0.31243535 0.16835026 0.92314943 0.25574844]\n",
            " [0.26168468 0.95246747 0.05003676 0.8393783 ]\n",
            " [0.65276761 0.42476302 0.46409    0.17136794]\n",
            " [0.6715793  0.54669135 0.1582544  0.23810325]\n",
            " [0.31223013 0.51696291 0.39815904 0.94240277]\n",
            " [0.74790118 0.39191979 0.56256399 0.93800553]\n",
            " [0.3914559  0.18365883 0.68890901 0.66127853]]\n",
            "First 5 rows of the above array:\n",
            "[[0.74146796 0.02425995 0.7185032  0.07941903]\n",
            " [0.71564044 0.88537457 0.82626552 0.61056115]\n",
            " [0.17370696 0.04014159 0.4445174  0.64934804]\n",
            " [0.31243535 0.16835026 0.92314943 0.25574844]\n",
            " [0.26168468 0.95246747 0.05003676 0.8393783 ]]\n"
          ]
        }
      ]
    },
    {
      "cell_type": "markdown",
      "source": [
        "15. Shuffle Numbers 0-10\n",
        "\n",
        "Write a NumPy program to shuffle numbers between 0 and 10 (inclusive).\n",
        "\n",
        "Sample Output:\n",
        "[5 7 9 0 2 3 1 6 8 4]\n",
        "Same result using permutation():\n",
        "[6 7 4 5 8 2 3 9 0 1]"
      ],
      "metadata": {
        "id": "VlXjNRloSaoH"
      }
    },
    {
      "cell_type": "code",
      "source": [
        "x = np.arange(10)\n",
        "\n",
        "np.random.shuffle(x)\n",
        "\n",
        "print(x)\n",
        "\n",
        "\n",
        "print(\"Same result using permutation():\")\n",
        "print(np.random.permutation(10))\n"
      ],
      "metadata": {
        "colab": {
          "base_uri": "https://localhost:8080/"
        },
        "id": "_y3gurHHSTuI",
        "outputId": "7c40e5eb-09ba-4ee2-f8e1-72f3d993ba57"
      },
      "execution_count": 25,
      "outputs": [
        {
          "output_type": "stream",
          "name": "stdout",
          "text": [
            "[0 9 3 5 8 6 2 1 7 4]\n",
            "Same result using permutation():\n",
            "[8 1 7 4 2 9 0 6 3 5]\n"
          ]
        }
      ]
    },
    {
      "cell_type": "markdown",
      "source": [
        "16. Normalize a 3x3 Matrix\n",
        "\n",
        "Write a NumPy program to normalize a 3x3 random matrix."
      ],
      "metadata": {
        "id": "YXTGl41qS-B8"
      }
    },
    {
      "cell_type": "code",
      "source": [
        "x = np.random.random((3, 3))\n",
        "\n",
        "print(\"Original Array:\")\n",
        "print(x)\n",
        "\n",
        "xmax, xmin = x.max(), x.min()\n",
        "\n",
        "x = (x - xmin) / (xmax - xmin)\n",
        "\n",
        "print(\"After normalization:\")\n",
        "print(x)\n"
      ],
      "metadata": {
        "colab": {
          "base_uri": "https://localhost:8080/"
        },
        "id": "G2v1Jn_0SgcT",
        "outputId": "748a1d9c-f656-4b81-9b35-7d2b8c14da78"
      },
      "execution_count": 26,
      "outputs": [
        {
          "output_type": "stream",
          "name": "stdout",
          "text": [
            "Original Array:\n",
            "[[0.78758443 0.83157158 0.57176632]\n",
            " [0.87382557 0.19163899 0.84521815]\n",
            " [0.28641072 0.41115103 0.08760546]]\n",
            "After normalization:\n",
            "[[0.89030917 0.94625679 0.61580828]\n",
            " [1.         0.13232113 0.96361399]\n",
            " [0.25286209 0.41152034 0.        ]]\n"
          ]
        }
      ]
    },
    {
      "cell_type": "markdown",
      "source": [
        "17. Sort Random Vector of Size 10\n",
        "\n",
        "Write a NumPy program to create a random vector of size 10 and sort it"
      ],
      "metadata": {
        "id": "uXmbxjEPTTck"
      }
    },
    {
      "cell_type": "code",
      "source": [
        "x = np.random.random(10)\n",
        "\n",
        "print(\"Original array:\")\n",
        "print(x)\n",
        "\n",
        "x.sort()\n",
        "\n",
        "print(\"Sorted array:\")\n",
        "print(x)\n"
      ],
      "metadata": {
        "colab": {
          "base_uri": "https://localhost:8080/"
        },
        "id": "4smihGOmTKGB",
        "outputId": "af99ce4e-c374-4f56-ec57-47d2fedd0135"
      },
      "execution_count": 27,
      "outputs": [
        {
          "output_type": "stream",
          "name": "stdout",
          "text": [
            "Original array:\n",
            "[0.00942188 0.6773377  0.79940825 0.19700648 0.68507288 0.73101553\n",
            " 0.40510103 0.85828763 0.11263726 0.07874107]\n",
            "Sorted array:\n",
            "[0.00942188 0.07874107 0.11263726 0.19700648 0.40510103 0.6773377\n",
            " 0.68507288 0.73101553 0.79940825 0.85828763]\n"
          ]
        }
      ]
    },
    {
      "cell_type": "markdown",
      "source": [
        "18. Find Nearest Value in Array\n",
        "\n",
        "Write a NumPy program to find the nearest value from a given value in an array."
      ],
      "metadata": {
        "id": "5MEdXNY0TuJL"
      }
    },
    {
      "cell_type": "code",
      "source": [
        "x = np.random.uniform(1, 12, 5)\n",
        "\n",
        "v = 4\n",
        "\n",
        "n = x.flat[np.abs(x - v).argmin()]\n",
        "\n",
        "print(n)\n"
      ],
      "metadata": {
        "colab": {
          "base_uri": "https://localhost:8080/"
        },
        "id": "vhDFx-KzTkG6",
        "outputId": "f6577ebb-15eb-4207-a2e4-30975248b743"
      },
      "execution_count": 28,
      "outputs": [
        {
          "output_type": "stream",
          "name": "stdout",
          "text": [
            "4.077090155251678\n"
          ]
        }
      ]
    },
    {
      "cell_type": "markdown",
      "source": [
        "19. Check Array Equality\n",
        "\n",
        "Write a NumPy program to check two random arrays are equal or not.\n",
        "\n",
        "Sample Output:\n",
        "First array:\n",
        "[1 0 1 0 1 1]\n",
        "Second array:\n",
        "[0 0 1 1 1 0]\n",
        "Test above two arrays are equal or not!\n",
        "False"
      ],
      "metadata": {
        "id": "D_yRQv_Zg3vi"
      }
    },
    {
      "cell_type": "code",
      "source": [
        "x = np.random.randint(0, 2, 6)\n",
        "\n",
        "print(\"First array:\")\n",
        "print(x)\n",
        "\n",
        "y = np.random.randint(0, 2, 6)\n",
        "\n",
        "print(\"Second array:\")\n",
        "print(y)\n",
        "\n",
        "array_equal = np.allclose(x, y)\n",
        "\n",
        "print(\"Test above two arrays are equal or not!\")\n",
        "print(array_equal)\n"
      ],
      "metadata": {
        "colab": {
          "base_uri": "https://localhost:8080/"
        },
        "id": "q6DiTtSXgum9",
        "outputId": "dc258c63-f312-44ec-af3e-21ec529fc1d9"
      },
      "execution_count": 29,
      "outputs": [
        {
          "output_type": "stream",
          "name": "stdout",
          "text": [
            "First array:\n",
            "[1 1 1 1 0 0]\n",
            "Second array:\n",
            "[0 0 1 0 0 0]\n",
            "Test above two arrays are equal or not!\n",
            "False\n"
          ]
        }
      ]
    },
    {
      "cell_type": "markdown",
      "source": [
        "20. Write a NumPy program to find the dot product of two arrays of different dimensions."
      ],
      "metadata": {
        "id": "QETM5yUwhUMo"
      }
    },
    {
      "cell_type": "code",
      "source": [
        "nums1 = np.array([[1, 2], [3, 4], [5, 6]])\n",
        "nums2 = np.array([7, 8])\n",
        "print(\"Original arrays:\")\n",
        "print(nums1)\n",
        "print(nums2)\n",
        "result = np.dot(nums1, nums2)\n",
        "print(\"Dot product of the said two arrays:\")\n",
        "print(result)\n"
      ],
      "metadata": {
        "colab": {
          "base_uri": "https://localhost:8080/"
        },
        "id": "aM9OY4nghIv8",
        "outputId": "295f30e0-7f99-49bd-d826-560fd7b9fdf6"
      },
      "execution_count": 30,
      "outputs": [
        {
          "output_type": "stream",
          "name": "stdout",
          "text": [
            "Original arrays:\n",
            "[[1 2]\n",
            " [3 4]\n",
            " [5 6]]\n",
            "[7 8]\n",
            "Dot product of the said two arrays:\n",
            "[23 53 83]\n"
          ]
        }
      ]
    },
    {
      "cell_type": "code",
      "source": [],
      "metadata": {
        "id": "sCVMQvGfhb9p"
      },
      "execution_count": null,
      "outputs": []
    }
  ]
}